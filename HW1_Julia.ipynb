{
 "cells": [
  {
   "cell_type": "markdown",
   "metadata": {},
   "source": [
    "# Hints for Homework 1"
   ]
  },
  {
   "cell_type": "markdown",
   "metadata": {},
   "source": [
    "## Problem 1"
   ]
  },
  {
   "cell_type": "code",
   "execution_count": 6,
   "metadata": {
    "collapsed": false
   },
   "outputs": [
    {
     "data": {
      "text/plain": [
       "my_log (generic function with 1 method)"
      ]
     },
     "execution_count": 6,
     "metadata": {},
     "output_type": "execute_result"
    }
   ],
   "source": [
    "function my_log(N)\n",
    "    denom = 1\n",
    "    sum = 0\n",
    "    for k in 1:N\n",
    "        denom = denom*2\n",
    "        sum = sum+1/k/denom\n",
    "    end\n",
    "    return sum\n",
    "end"
   ]
  },
  {
   "cell_type": "code",
   "execution_count": 38,
   "metadata": {
    "collapsed": false
   },
   "outputs": [
    {
     "data": {
      "text/plain": [
       "Inf"
      ]
     },
     "execution_count": 38,
     "metadata": {},
     "output_type": "execute_result"
    }
   ],
   "source": [
    "my_log(64)"
   ]
  },
  {
   "cell_type": "markdown",
   "metadata": {},
   "source": [
    "The above behavior is different from what MATLAB would give you. The reason is that in Julia, exceeding the maximum representable value of a given type results in a wraparound behavior. "
   ]
  },
  {
   "cell_type": "code",
   "execution_count": 39,
   "metadata": {
    "collapsed": false
   },
   "outputs": [
    {
     "data": {
      "text/plain": [
       "9223372036854775807"
      ]
     },
     "execution_count": 39,
     "metadata": {},
     "output_type": "execute_result"
    }
   ],
   "source": [
    "typemax(Int64)"
   ]
  },
  {
   "cell_type": "code",
   "execution_count": 40,
   "metadata": {
    "collapsed": false
   },
   "outputs": [
    {
     "data": {
      "text/plain": [
       "-9223372036854775808"
      ]
     },
     "execution_count": 40,
     "metadata": {},
     "output_type": "execute_result"
    }
   ],
   "source": [
    "2^63"
   ]
  },
  {
   "cell_type": "code",
   "execution_count": 41,
   "metadata": {
    "collapsed": false
   },
   "outputs": [
    {
     "data": {
      "text/plain": [
       "true"
      ]
     },
     "execution_count": 41,
     "metadata": {},
     "output_type": "execute_result"
    }
   ],
   "source": [
    "-2^63 == ans"
   ]
  },
  {
   "cell_type": "markdown",
   "metadata": {},
   "source": [
    "Therefore, $2^64$ is actually wrapped around to 0. That's why I get an `Inf` here. In MATLAB, exceeding results in a return of `Inf`, and consequently the result is not updated anymore once we have summed after the $64$-th term."
   ]
  },
  {
   "cell_type": "markdown",
   "metadata": {},
   "source": [
    "## Problem 2"
   ]
  },
  {
   "cell_type": "code",
   "execution_count": 64,
   "metadata": {
    "collapsed": false
   },
   "outputs": [
    {
     "data": {
      "text/plain": [
       "mybeta_naive (generic function with 1 method)"
      ]
     },
     "execution_count": 64,
     "metadata": {},
     "output_type": "execute_result"
    }
   ],
   "source": [
    "function mybeta_naive(x, y)\n",
    "    return gamma(x)*gamma(y)/gamma(x+y)\n",
    "end"
   ]
  },
  {
   "cell_type": "code",
   "execution_count": 73,
   "metadata": {
    "collapsed": false
   },
   "outputs": [
    {
     "data": {
      "text/plain": [
       "2-element Array{Float64,1}:\n",
       " Inf\n",
       " NaN"
      ]
     },
     "execution_count": 73,
     "metadata": {},
     "output_type": "execute_result"
    }
   ],
   "source": [
    "[gamma(100)^2, mybeta_naive(100,100)]"
   ]
  },
  {
   "cell_type": "code",
   "execution_count": 63,
   "metadata": {
    "collapsed": false
   },
   "outputs": [
    {
     "data": {
      "text/plain": [
       "mybeta_gammaln (generic function with 1 method)"
      ]
     },
     "execution_count": 63,
     "metadata": {},
     "output_type": "execute_result"
    }
   ],
   "source": [
    "function mybeta_gammaln(x, y)\n",
    "    # return B(x,y) = exp(lgamma(x)+lgamma(y)-lgamma(x+y))\n",
    "    return exp(lgamma(x)+lgamma(y)-lgamma(x+y))\n",
    "end"
   ]
  },
  {
   "cell_type": "code",
   "execution_count": 68,
   "metadata": {
    "collapsed": false
   },
   "outputs": [
    {
     "data": {
      "text/plain": [
       "2.2087606931999387e-61"
      ]
     },
     "execution_count": 68,
     "metadata": {},
     "output_type": "execute_result"
    }
   ],
   "source": [
    "mybeta_gammaln(100,100)"
   ]
  },
  {
   "cell_type": "markdown",
   "metadata": {},
   "source": [
    "The bad thing about the naive way is that $\\Gamma(x)$ tends to return really large values, and when doing multiplication and division, errors can occur. The use of `lgamma` function managed to get rid of this and turns multiplication/division into addition/subtraction."
   ]
  },
  {
   "cell_type": "markdown",
   "metadata": {},
   "source": [
    "## Problem 3"
   ]
  },
  {
   "cell_type": "code",
   "execution_count": 24,
   "metadata": {
    "collapsed": false
   },
   "outputs": [
    {
     "data": {
      "text/plain": [
       "base_case_tan (generic function with 1 method)"
      ]
     },
     "execution_count": 24,
     "metadata": {},
     "output_type": "execute_result"
    }
   ],
   "source": [
    "function base_case_tan(x)\n",
    "    # The function calculates tan(x) for small x using Taylor\n",
    "    # expansion up to order 9 via Horn's method\n",
    "    y = x*x\n",
    "    return x*(1+y*(1/3+y*(2/15+y*(17/315+62/2835*y))))\n",
    "end "
   ]
  },
  {
   "cell_type": "code",
   "execution_count": 55,
   "metadata": {
    "collapsed": false
   },
   "outputs": [
    {
     "data": {
      "text/plain": [
       "my_tan (generic function with 1 method)"
      ]
     },
     "execution_count": 55,
     "metadata": {},
     "output_type": "execute_result"
    }
   ],
   "source": [
    "function my_tan(x)\n",
    "    # Calculate tan following the algorithm presented in\n",
    "    # http://mathonweb.com/help_ebook/html/algorithms.htm#tan\n",
    "    x = mod(x, 1.0*pi)\n",
    "    invert_case = 0\n",
    "    double_case = 0\n",
    "    s = 1\n",
    "    if x > pi/2\n",
    "        x = pi-x\n",
    "        s = -1\n",
    "    end\n",
    "    \n",
    "    if x > pi/4\n",
    "        x = pi/2 - x\n",
    "        invert_case = 1\n",
    "    end\n",
    "    \n",
    "    if x > pi/8\n",
    "        x = x/2;\n",
    "        double_case = 1;\n",
    "    end\n",
    "    \n",
    "    temp = s*base_case_tan(x)\n",
    "    # Note the order here! Double first, invert follows.    \n",
    "    if double_case == 1\n",
    "        temp = 2*temp/(1-temp*temp)\n",
    "    end\n",
    "    \n",
    "    if invert_case == 1\n",
    "        temp = 1/temp\n",
    "    end\n",
    "    \n",
    "    return temp\n",
    "end  "
   ]
  },
  {
   "cell_type": "code",
   "execution_count": 56,
   "metadata": {
    "collapsed": false
   },
   "outputs": [
    {
     "data": {
      "text/plain": [
       "99.99666664444354"
      ]
     },
     "execution_count": 56,
     "metadata": {},
     "output_type": "execute_result"
    }
   ],
   "source": [
    "tan(pi/2-0.01)"
   ]
  },
  {
   "cell_type": "code",
   "execution_count": 62,
   "metadata": {
    "collapsed": false
   },
   "outputs": [
    {
     "data": {
      "image/png": "[encoded data removed]",
      "text/plain": [
       "PyPlot.Figure(PyObject <matplotlib.figure.Figure object at 0x0000000021382438>)"
      ]
     },
     "metadata": {},
     "output_type": "display_data"
    },
    {
     "data": {
      "text/plain": [
       "PyObject <matplotlib.text.Text object at 0x00000000210C0860>"
      ]
     },
     "execution_count": 62,
     "metadata": {},
     "output_type": "execute_result"
    }
   ],
   "source": [
    "using PyPlot\n",
    "x = linspace(-5,5,500)\n",
    "err = [my_tan(x[i]) - tan(x[i]) for i = 1:length(x)]\n",
    "plot(x, err, color = \"green\")\n",
    "ylabel(\"Error\")"
   ]
  },
  {
   "cell_type": "code",
   "execution_count": null,
   "metadata": {
    "collapsed": true
   },
   "outputs": [],
   "source": []
  }
 ],
 "metadata": {
  "kernelspec": {
   "display_name": "Julia 0.4.6",
   "language": "julia",
   "name": "julia-0.4"
  },
  "language_info": {
   "file_extension": ".jl",
   "mimetype": "application/julia",
   "name": "julia",
   "version": "0.4.6"
  }
 },
 "nbformat": 4,
 "nbformat_minor": 1
}
